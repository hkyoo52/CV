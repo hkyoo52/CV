{
  "nbformat": 4,
  "nbformat_minor": 0,
  "metadata": {
    "colab": {
      "name": "pytorch.ipynb",
      "provenance": [],
      "mount_file_id": "1fj8vCmaqhOa0QZ8usSOgQx27O8XAUsj8",
      "authorship_tag": "ABX9TyOLGyhDDnPgOsUTZR1KNxU7",
      "include_colab_link": true
    },
    "kernelspec": {
      "name": "python3",
      "display_name": "Python 3"
    },
    "language_info": {
      "name": "python"
    }
  },
  "cells": [
    {
      "cell_type": "markdown",
      "metadata": {
        "id": "view-in-github",
        "colab_type": "text"
      },
      "source": [
        "<a href=\"https://colab.research.google.com/github/hkyoo52/CV/blob/main/pytorch.ipynb\" target=\"_parent\"><img src=\"https://colab.research.google.com/assets/colab-badge.svg\" alt=\"Open In Colab\"/></a>"
      ]
    },
    {
      "cell_type": "markdown",
      "source": [
        "**Pytorch 장점**\n",
        "1. Define by Run(실행하면서 그래프 생성)a -> 즉시 확인 가능\n",
        "2. GPU support, Goot community\n",
        "3. 사용하기 편함\n",
        "\n",
        "**Pytorch 특징**\n",
        "* Numpy로 표현\n",
        "* 자동미분 지원(AutoGrad)\n",
        "* 다양한 형태의 함수와 모델 지원"
      ],
      "metadata": {
        "id": "zN0NBmfIkU6E"
      }
    },
    {
      "cell_type": "markdown",
      "source": [
        "## AutoGrad"
      ],
      "metadata": {
        "id": "IlH2DBhirKwk"
      }
    },
    {
      "cell_type": "code",
      "execution_count": null,
      "metadata": {
        "colab": {
          "base_uri": "https://localhost:8080/"
        },
        "id": "_EoIPj0oeabl",
        "outputId": "956c46e3-57c1-474c-96a6-2a2bba8ac7b5"
      },
      "outputs": [
        {
          "output_type": "stream",
          "name": "stdout",
          "text": [
            "[[0 1 2 3 4]\n",
            " [5 6 7 8 9]]\n",
            "ndim :  2 shape :  (2, 5)\n"
          ]
        }
      ],
      "source": [
        "# numpy 버전\n",
        "import numpy as np\n",
        "n_array=np.arange(10).reshape(2,5)\n",
        "print(n_array)\n",
        "print('ndim : ',n_array.ndim,'shape : ',n_array.shape)"
      ]
    },
    {
      "cell_type": "code",
      "source": [
        "#pytorch\n",
        "import torch\n",
        "t_array=torch.FloatTensor(n_array)\n",
        "print(t_array)\n",
        "print('n_dim : ',t_array.ndim, 'shape : ',t_array.shape)"
      ],
      "metadata": {
        "colab": {
          "base_uri": "https://localhost:8080/"
        },
        "id": "XnkDmXsErek4",
        "outputId": "f4b1afca-74b4-401e-f9c7-3914df8c6077"
      },
      "execution_count": null,
      "outputs": [
        {
          "output_type": "stream",
          "name": "stdout",
          "text": [
            "tensor([[0., 1., 2., 3., 4.],\n",
            "        [5., 6., 7., 8., 9.]])\n",
            "n_dim :  2 shape :  torch.Size([2, 5])\n"
          ]
        }
      ]
    },
    {
      "cell_type": "code",
      "source": [
        "# numpy에서 쓰는 코드 거의 다 사용 가능\n",
        "data=[[3,5,10,],[10,5,50],[1,5,10]]\n",
        "x_data=torch.tensor(data)\n",
        "\n",
        "print('slice : ', x_data[1:])\n",
        "print('slice : ', x_data[:2,1:])\n",
        "print('flatten : ',x_data.flatten())\n",
        "print('텐서 생성 : ',torch.ones_like(x_data))\n",
        "print('numpy 변경 ',x_data.numpy())\n",
        "print('shape : ',x_data.shape)\n",
        "print('dtype : ',x_data.dtype)"
      ],
      "metadata": {
        "colab": {
          "base_uri": "https://localhost:8080/"
        },
        "id": "1KQIEVEHruf6",
        "outputId": "e83c4672-b41d-4c21-ebdb-ca6eb58ebc3b"
      },
      "execution_count": null,
      "outputs": [
        {
          "output_type": "stream",
          "name": "stdout",
          "text": [
            "slice :  tensor([[10,  5, 50],\n",
            "        [ 1,  5, 10]])\n",
            "slice :  tensor([[ 5, 10],\n",
            "        [ 5, 50]])\n",
            "flatten :  tensor([ 3,  5, 10, 10,  5, 50,  1,  5, 10])\n",
            "텐서 생성 :  tensor([[1, 1, 1],\n",
            "        [1, 1, 1],\n",
            "        [1, 1, 1]])\n",
            "numpy 변경  [[ 3  5 10]\n",
            " [10  5 50]\n",
            " [ 1  5 10]]\n",
            "shape :  torch.Size([3, 3])\n",
            "dtype :  torch.int64\n"
          ]
        }
      ]
    },
    {
      "cell_type": "code",
      "source": [
        "# cpu 사용 -> cpu, gpu 사용 -> cuda\n",
        "x_data.device\n",
        "if torch.cuda.is_available():\n",
        "  x_data=x_data.to('cuda')\n",
        "x_data.device"
      ],
      "metadata": {
        "colab": {
          "base_uri": "https://localhost:8080/"
        },
        "id": "hekmzcvrsnyR",
        "outputId": "0e82916c-2046-4d78-b41c-ba02db75fca0"
      },
      "execution_count": null,
      "outputs": [
        {
          "output_type": "execute_result",
          "data": {
            "text/plain": [
              "device(type='cpu')"
            ]
          },
          "metadata": {},
          "execution_count": 10
        }
      ]
    },
    {
      "cell_type": "markdown",
      "source": [
        "## **Tensor handling**\n",
        "* view : reshape와 동일하게 tensor의 shape 변환\n",
        "* squeeze : 차원의 개수가 1인 차원을 삭제(압축)\n",
        "* unsqueeze : 차원의 개수가 1인 차원추가"
      ],
      "metadata": {
        "id": "DAQ6yCDvtcux"
      }
    },
    {
      "cell_type": "code",
      "source": [
        "tensor_ex=torch.rand(size=(2,3,2))\n",
        "tensor_ex.view([-1,6])"
      ],
      "metadata": {
        "colab": {
          "base_uri": "https://localhost:8080/"
        },
        "id": "D5DFjStitGMl",
        "outputId": "ad4f4eb7-d034-4564-a795-017816ae4968"
      },
      "execution_count": null,
      "outputs": [
        {
          "output_type": "execute_result",
          "data": {
            "text/plain": [
              "tensor([[0.6726, 0.9337, 0.8388, 0.6272, 0.3991, 0.5167],\n",
              "        [0.6711, 0.6075, 0.9608, 0.5655, 0.4674, 0.5178]])"
            ]
          },
          "metadata": {},
          "execution_count": 11
        }
      ]
    },
    {
      "cell_type": "code",
      "source": [
        "# view는 동일 메모리에 형태만 다르게 하는 거임!!!\n",
        "a=torch.zeros(3,2)\n",
        "b=a.view(2,3)\n",
        "a.fill_(1)\n",
        "print(a)\n",
        "print(b)"
      ],
      "metadata": {
        "colab": {
          "base_uri": "https://localhost:8080/"
        },
        "id": "-1Fo8aahyGje",
        "outputId": "5d3707be-5b5e-468d-eb7d-68962f849090"
      },
      "execution_count": null,
      "outputs": [
        {
          "output_type": "stream",
          "name": "stdout",
          "text": [
            "tensor([[1., 1.],\n",
            "        [1., 1.],\n",
            "        [1., 1.]])\n",
            "tensor([[1., 1., 1.],\n",
            "        [1., 1., 1.]])\n"
          ]
        }
      ]
    },
    {
      "cell_type": "code",
      "source": [
        "# squeeze, unsqueeze\n",
        "tensor_ex=torch.rand(size=(2,1,2))\n",
        "tensor_ex.squeeze().shape"
      ],
      "metadata": {
        "colab": {
          "base_uri": "https://localhost:8080/"
        },
        "id": "iov6hmX6yMy_",
        "outputId": "223fe37f-7fe4-4654-bbf9-c2b1b635e2df"
      },
      "execution_count": null,
      "outputs": [
        {
          "output_type": "execute_result",
          "data": {
            "text/plain": [
              "torch.Size([2, 2])"
            ]
          },
          "metadata": {},
          "execution_count": 14
        }
      ]
    },
    {
      "cell_type": "code",
      "source": [
        "tensor_ex=torch.rand(size=(2,2))\n",
        "tensor_ex.unsqueeze(0).shape"
      ],
      "metadata": {
        "colab": {
          "base_uri": "https://localhost:8080/"
        },
        "id": "ZdMlsmJ1zA04",
        "outputId": "4326aff7-8971-4e9b-b2f3-76eeec3a194e"
      },
      "execution_count": null,
      "outputs": [
        {
          "output_type": "execute_result",
          "data": {
            "text/plain": [
              "torch.Size([1, 2, 2])"
            ]
          },
          "metadata": {},
          "execution_count": 15
        }
      ]
    },
    {
      "cell_type": "code",
      "source": [
        "tensor_ex=torch.rand(size=(2,2))\n",
        "tensor_ex.unsqueeze(1).shape"
      ],
      "metadata": {
        "colab": {
          "base_uri": "https://localhost:8080/"
        },
        "id": "MZ0yh7wOzJRw",
        "outputId": "72288ec6-694c-4e72-a60e-9f5cfcdfd52e"
      },
      "execution_count": null,
      "outputs": [
        {
          "output_type": "execute_result",
          "data": {
            "text/plain": [
              "torch.Size([2, 1, 2])"
            ]
          },
          "metadata": {},
          "execution_count": 17
        }
      ]
    },
    {
      "cell_type": "markdown",
      "source": [
        "## **tensor operation**\n",
        "* +, - : 같은 차원에서만 사용 가능 \n",
        "* mm : 행열간의 내적 (벡터간의 연산X)\n",
        "* dot : 행렬간의 곱셈\n",
        "* matmul : 알아서 브로드캐스팅해서 내적을 함\n",
        "\n",
        "**일반적으로 tensor에 첫 차원은 batch를 의미한다!!**"
      ],
      "metadata": {
        "id": "8JmWj7AWzbXn"
      }
    },
    {
      "cell_type": "code",
      "source": [
        "n1=np.arange(10).reshape(2,5)\n",
        "t1=torch.FloatTensor(n1)\n",
        "n2=np.arange(10).reshape(5,2)\n",
        "t2=torch.FloatTensor(n2)\n",
        "print(t1)\n",
        "print(t2)"
      ],
      "metadata": {
        "colab": {
          "base_uri": "https://localhost:8080/"
        },
        "id": "pVeT5ADuzLUU",
        "outputId": "5702ee3d-2a71-454c-f0fd-2a021501dce9"
      },
      "execution_count": null,
      "outputs": [
        {
          "output_type": "stream",
          "name": "stdout",
          "text": [
            "tensor([[0., 1., 2., 3., 4.],\n",
            "        [5., 6., 7., 8., 9.]])\n",
            "tensor([[0., 1.],\n",
            "        [2., 3.],\n",
            "        [4., 5.],\n",
            "        [6., 7.],\n",
            "        [8., 9.]])\n"
          ]
        }
      ]
    },
    {
      "cell_type": "code",
      "source": [
        "t1.mm(t2)"
      ],
      "metadata": {
        "colab": {
          "base_uri": "https://localhost:8080/"
        },
        "id": "0_p40A-lz7wS",
        "outputId": "b787db06-e2f7-4625-8c90-4f9965ac5209"
      },
      "execution_count": null,
      "outputs": [
        {
          "output_type": "execute_result",
          "data": {
            "text/plain": [
              "tensor([[ 60.,  70.],\n",
              "        [160., 195.]])"
            ]
          },
          "metadata": {},
          "execution_count": 21
        }
      ]
    },
    {
      "cell_type": "code",
      "source": [
        "t1.dot(t1)"
      ],
      "metadata": {
        "colab": {
          "base_uri": "https://localhost:8080/",
          "height": 175
        },
        "id": "nVXlNlCwz940",
        "outputId": "a7a9bd13-6f8b-4bd9-e94f-31b0b78a37a9"
      },
      "execution_count": null,
      "outputs": [
        {
          "output_type": "error",
          "ename": "RuntimeError",
          "evalue": "ignored",
          "traceback": [
            "\u001b[0;31m---------------------------------------------------------------------------\u001b[0m",
            "\u001b[0;31mRuntimeError\u001b[0m                              Traceback (most recent call last)",
            "\u001b[0;32m<ipython-input-22-2e627bfac011>\u001b[0m in \u001b[0;36m<module>\u001b[0;34m()\u001b[0m\n\u001b[0;32m----> 1\u001b[0;31m \u001b[0mt1\u001b[0m\u001b[0;34m.\u001b[0m\u001b[0mdot\u001b[0m\u001b[0;34m(\u001b[0m\u001b[0mt1\u001b[0m\u001b[0;34m)\u001b[0m\u001b[0;34m\u001b[0m\u001b[0;34m\u001b[0m\u001b[0m\n\u001b[0m",
            "\u001b[0;31mRuntimeError\u001b[0m: 1D tensors expected, but got 2D and 2D tensors"
          ]
        }
      ]
    },
    {
      "cell_type": "code",
      "source": [
        "  # mm은 벡터간의 연산은 할 수 없다.\n",
        "a=torch.rand(10)\n",
        "b=torch.rand(10)\n",
        "a.mm(b)"
      ],
      "metadata": {
        "colab": {
          "base_uri": "https://localhost:8080/",
          "height": 212
        },
        "id": "cyxWDQ8Q0NAx",
        "outputId": "5d4f6b11-d39f-4363-d420-30ec0a5cb670"
      },
      "execution_count": null,
      "outputs": [
        {
          "output_type": "error",
          "ename": "RuntimeError",
          "evalue": "ignored",
          "traceback": [
            "\u001b[0;31m---------------------------------------------------------------------------\u001b[0m",
            "\u001b[0;31mRuntimeError\u001b[0m                              Traceback (most recent call last)",
            "\u001b[0;32m<ipython-input-24-48d0a3c4a926>\u001b[0m in \u001b[0;36m<module>\u001b[0;34m()\u001b[0m\n\u001b[1;32m      2\u001b[0m \u001b[0ma\u001b[0m\u001b[0;34m=\u001b[0m\u001b[0mtorch\u001b[0m\u001b[0;34m.\u001b[0m\u001b[0mrand\u001b[0m\u001b[0;34m(\u001b[0m\u001b[0;36m10\u001b[0m\u001b[0;34m)\u001b[0m\u001b[0;34m\u001b[0m\u001b[0;34m\u001b[0m\u001b[0m\n\u001b[1;32m      3\u001b[0m \u001b[0mb\u001b[0m\u001b[0;34m=\u001b[0m\u001b[0mtorch\u001b[0m\u001b[0;34m.\u001b[0m\u001b[0mrand\u001b[0m\u001b[0;34m(\u001b[0m\u001b[0;36m10\u001b[0m\u001b[0;34m)\u001b[0m\u001b[0;34m\u001b[0m\u001b[0;34m\u001b[0m\u001b[0m\n\u001b[0;32m----> 4\u001b[0;31m \u001b[0ma\u001b[0m\u001b[0;34m.\u001b[0m\u001b[0mmm\u001b[0m\u001b[0;34m(\u001b[0m\u001b[0mb\u001b[0m\u001b[0;34m)\u001b[0m\u001b[0;34m\u001b[0m\u001b[0;34m\u001b[0m\u001b[0m\n\u001b[0m",
            "\u001b[0;31mRuntimeError\u001b[0m: self must be a matrix"
          ]
        }
      ]
    },
    {
      "cell_type": "code",
      "source": [
        "a.matmul(b)"
      ],
      "metadata": {
        "colab": {
          "base_uri": "https://localhost:8080/"
        },
        "id": "XkquJ8eP0m3Q",
        "outputId": "75bb87bf-3a84-45a1-fe52-149ac4cddbae"
      },
      "execution_count": null,
      "outputs": [
        {
          "output_type": "execute_result",
          "data": {
            "text/plain": [
              "tensor(3.4360)"
            ]
          },
          "metadata": {},
          "execution_count": 25
        }
      ]
    },
    {
      "cell_type": "markdown",
      "source": [
        "## **딥러닝 module**\n",
        "torch.nn.functional as F"
      ],
      "metadata": {
        "id": "F2oSqAwt1QfA"
      }
    },
    {
      "cell_type": "code",
      "source": [
        "import torch\n",
        "import torch.nn.functional as F\n",
        "\n",
        "tensor=torch.FloatTensor([0.5,0.7,0.1])\n",
        "h_tensor=F.softmax(tensor,dim=0)\n",
        "h_tensor"
      ],
      "metadata": {
        "colab": {
          "base_uri": "https://localhost:8080/"
        },
        "id": "Q3uwk4Vt0r_H",
        "outputId": "b400be52-bdf7-47a3-c635-bbdd703391be"
      },
      "execution_count": null,
      "outputs": [
        {
          "output_type": "execute_result",
          "data": {
            "text/plain": [
              "tensor([0.3458, 0.4224, 0.2318])"
            ]
          },
          "metadata": {},
          "execution_count": 26
        }
      ]
    },
    {
      "cell_type": "code",
      "source": [
        "y=torch.randint(5,(10,5))\n",
        "y_label=y.argmax(dim=1)\n",
        "print(y)\n",
        "print(y_label)"
      ],
      "metadata": {
        "colab": {
          "base_uri": "https://localhost:8080/"
        },
        "id": "Ty9084Rx1ivH",
        "outputId": "9cb9f899-f777-42a4-c561-084c90cc2c5d"
      },
      "execution_count": null,
      "outputs": [
        {
          "output_type": "stream",
          "name": "stdout",
          "text": [
            "tensor([[3, 0, 2, 1, 1],\n",
            "        [1, 2, 0, 4, 3],\n",
            "        [2, 3, 4, 0, 0],\n",
            "        [1, 4, 1, 3, 3],\n",
            "        [3, 1, 3, 0, 4],\n",
            "        [4, 2, 3, 2, 4],\n",
            "        [2, 3, 4, 0, 3],\n",
            "        [0, 3, 4, 0, 3],\n",
            "        [2, 0, 1, 0, 4],\n",
            "        [0, 1, 0, 1, 4]])\n",
            "tensor([0, 3, 2, 1, 4, 0, 2, 2, 4, 4])\n"
          ]
        }
      ]
    },
    {
      "cell_type": "code",
      "source": [
        "# one-hot 인코딩\n",
        "torch.nn.functional.one_hot(y_label)"
      ],
      "metadata": {
        "colab": {
          "base_uri": "https://localhost:8080/"
        },
        "id": "1j7yQ38y183z",
        "outputId": "82b22ccd-cca3-4dce-fea8-2e051f3e6774"
      },
      "execution_count": null,
      "outputs": [
        {
          "output_type": "execute_result",
          "data": {
            "text/plain": [
              "tensor([[1, 0, 0, 0, 0],\n",
              "        [0, 0, 0, 1, 0],\n",
              "        [0, 0, 1, 0, 0],\n",
              "        [0, 1, 0, 0, 0],\n",
              "        [0, 0, 0, 0, 1],\n",
              "        [1, 0, 0, 0, 0],\n",
              "        [0, 0, 1, 0, 0],\n",
              "        [0, 0, 1, 0, 0],\n",
              "        [0, 0, 0, 0, 1],\n",
              "        [0, 0, 0, 0, 1]])"
            ]
          },
          "metadata": {},
          "execution_count": 29
        }
      ]
    },
    {
      "cell_type": "code",
      "source": [
        "# cartesian_prod : list a와 list b의 가능한 모든 조합\n",
        "a=[1,2,3]\n",
        "b=[4,5]\n",
        "tensor_a=torch.tensor(a)\n",
        "tensor_b=torch.tensor(b)\n",
        "torch.cartesian_prod(tensor_a,tensor_b)"
      ],
      "metadata": {
        "colab": {
          "base_uri": "https://localhost:8080/"
        },
        "id": "7UY8hYuf2DhB",
        "outputId": "4ac9529c-1ca1-4eaa-d8cb-6ef769fbfbb3"
      },
      "execution_count": null,
      "outputs": [
        {
          "output_type": "execute_result",
          "data": {
            "text/plain": [
              "tensor([[1, 4],\n",
              "        [1, 5],\n",
              "        [2, 4],\n",
              "        [2, 5],\n",
              "        [3, 4],\n",
              "        [3, 5]])"
            ]
          },
          "metadata": {},
          "execution_count": 31
        }
      ]
    },
    {
      "cell_type": "code",
      "source": [
        "# requires_grad로 미분 가능 형태로 만듬\n",
        "# backward()로 미분 사용\n",
        "w=torch.tensor(2.0,requires_grad=True)\n",
        "y=w**2\n",
        "z=10*y+25       # z=10w**2\n",
        "z.backward()    # y'=20w\n",
        "w.grad"
      ],
      "metadata": {
        "colab": {
          "base_uri": "https://localhost:8080/"
        },
        "id": "zTwt4QKw2by0",
        "outputId": "cd914b49-685c-4887-9b14-cd4d6ae00d50"
      },
      "execution_count": null,
      "outputs": [
        {
          "output_type": "execute_result",
          "data": {
            "text/plain": [
              "tensor(40.)"
            ]
          },
          "metadata": {},
          "execution_count": 32
        }
      ]
    },
    {
      "cell_type": "markdown",
      "source": [
        "$$Q=3a^3-b^2$$\n",
        "\n"
      ],
      "metadata": {
        "id": "h34S_VXy3Rrw"
      }
    },
    {
      "cell_type": "code",
      "source": [
        "a=torch.tensor([2.,3.],requires_grad=True)\n",
        "b=torch.tensor([6.,4.],requires_grad=True)\n",
        "Q=3*a**3-b**2\n",
        "external_grad=torch.tensor([1.,1.])\n",
        "Q.backward(gradient=external_grad)    #gradient 크기값을 넣어줌\n",
        "print(a.grad)\n",
        "print(b.grad)"
      ],
      "metadata": {
        "colab": {
          "base_uri": "https://localhost:8080/"
        },
        "id": "nwnwbc3Z3P4-",
        "outputId": "78c0fa3e-f88c-40b5-ab77-0d52979bf5e6"
      },
      "execution_count": null,
      "outputs": [
        {
          "output_type": "stream",
          "name": "stdout",
          "text": [
            "tensor([36., 81.])\n",
            "tensor([-12.,  -8.])\n"
          ]
        }
      ]
    },
    {
      "cell_type": "code",
      "source": [
        ""
      ],
      "metadata": {
        "id": "1WClxSgw2sYJ"
      },
      "execution_count": null,
      "outputs": []
    },
    {
      "cell_type": "markdown",
      "source": [
        "## **파이토치 모듈**\n",
        "https://github.com/victoresque/pytorch-template\n",
        "\n",
        "![image](https://user-images.githubusercontent.com/63588046/150713042-d627f609-76ac-4a3e-8505-692f9b31861e.png)\n"
      ],
      "metadata": {
        "id": "CPnol2Qf7sAk"
      }
    },
    {
      "cell_type": "markdown",
      "source": [
        "cmd 코드\n",
        "\n",
        "git clone https://github.com/victoresque/pytorch-template.git\n",
        "cd pytorch-template\n",
        "conda activate torch\n",
        "python new_project.py MyProject\n",
        "cd MyProject\\\n",
        "code .\n"
      ],
      "metadata": {
        "id": "M7F4HaFlNpzm"
      }
    },
    {
      "cell_type": "markdown",
      "source": [
        "### **colab에서 연동하기**"
      ],
      "metadata": {
        "id": "ySz5_ttBSKvq"
      }
    },
    {
      "cell_type": "code",
      "source": [
        "!pip3 install torch\n",
        "!pip3 install torchvision"
      ],
      "metadata": {
        "colab": {
          "base_uri": "https://localhost:8080/"
        },
        "id": "EuNSFxXJSKN6",
        "outputId": "37d4ad48-1ffc-4f0d-e4f5-6d175df55c8f"
      },
      "execution_count": null,
      "outputs": [
        {
          "output_type": "stream",
          "name": "stdout",
          "text": [
            "Requirement already satisfied: torch in /usr/local/lib/python3.7/dist-packages (1.10.0+cu111)\n",
            "Requirement already satisfied: typing-extensions in /usr/local/lib/python3.7/dist-packages (from torch) (3.10.0.2)\n",
            "Requirement already satisfied: torchvision in /usr/local/lib/python3.7/dist-packages (0.11.1+cu111)\n",
            "Requirement already satisfied: numpy in /usr/local/lib/python3.7/dist-packages (from torchvision) (1.19.5)\n",
            "Requirement already satisfied: torch==1.10.0 in /usr/local/lib/python3.7/dist-packages (from torchvision) (1.10.0+cu111)\n",
            "Requirement already satisfied: pillow!=8.3.0,>=5.3.0 in /usr/local/lib/python3.7/dist-packages (from torchvision) (7.1.2)\n",
            "Requirement already satisfied: typing-extensions in /usr/local/lib/python3.7/dist-packages (from torch==1.10.0->torchvision) (3.10.0.2)\n"
          ]
        }
      ]
    },
    {
      "cell_type": "code",
      "source": [
        "!git clone https://github.com/victoresque/pytorch-template.git"
      ],
      "metadata": {
        "colab": {
          "base_uri": "https://localhost:8080/"
        },
        "id": "sCVpR290SYLN",
        "outputId": "1e95208e-e781-4b7d-f6e5-407f0098da39"
      },
      "execution_count": null,
      "outputs": [
        {
          "output_type": "stream",
          "name": "stdout",
          "text": [
            "Cloning into 'pytorch-template'...\n",
            "remote: Enumerating objects: 1516, done.\u001b[K\n",
            "remote: Total 1516 (delta 0), reused 0 (delta 0), pack-reused 1516\u001b[K\n",
            "Receiving objects: 100% (1516/1516), 288.08 KiB | 16.00 MiB/s, done.\n",
            "Resolving deltas: 100% (848/848), done.\n"
          ]
        }
      ]
    },
    {
      "cell_type": "code",
      "source": [
        "!ls"
      ],
      "metadata": {
        "colab": {
          "base_uri": "https://localhost:8080/"
        },
        "id": "_o6V7SkWSlbh",
        "outputId": "336cc034-b54a-4e9a-9921-8132e6997814"
      },
      "execution_count": null,
      "outputs": [
        {
          "output_type": "stream",
          "name": "stdout",
          "text": [
            "drive  pytorch-template  sample_data\n"
          ]
        }
      ]
    },
    {
      "cell_type": "code",
      "source": [
        "%cd /content/pytorch-template\n",
        "!python new_project.py MNIST-example"
      ],
      "metadata": {
        "colab": {
          "base_uri": "https://localhost:8080/"
        },
        "id": "eWMchs_ISnd2",
        "outputId": "27632b28-d461-4888-dd19-364e2dddfb02"
      },
      "execution_count": null,
      "outputs": [
        {
          "output_type": "stream",
          "name": "stdout",
          "text": [
            "/content/pytorch-template\n",
            "New project initialized at /content/pytorch-template/MNIST-example\n"
          ]
        }
      ]
    },
    {
      "cell_type": "code",
      "source": [
        "NGROK_TOKEN = '2482F7wzrm0zOoJfvPz64DTMc21_8U5CJfrqcX5Fz4RtaHSf'\n",
        "PASSWORD = 'gksgh123'"
      ],
      "metadata": {
        "id": "Yt29-nkeS3Kz"
      },
      "execution_count": null,
      "outputs": []
    },
    {
      "cell_type": "code",
      "source": [
        "pip install colab-ssh"
      ],
      "metadata": {
        "colab": {
          "base_uri": "https://localhost:8080/"
        },
        "id": "jgObqqSZTc46",
        "outputId": "1a27f6eb-5601-4ad0-b317-653f9510d24a"
      },
      "execution_count": null,
      "outputs": [
        {
          "output_type": "stream",
          "name": "stdout",
          "text": [
            "Collecting colab-ssh\n",
            "  Downloading colab_ssh-0.3.27-py3-none-any.whl (26 kB)\n",
            "Installing collected packages: colab-ssh\n",
            "Successfully installed colab-ssh-0.3.27\n"
          ]
        }
      ]
    },
    {
      "cell_type": "code",
      "source": [
        "from colab_ssh import launch_ssh\n",
        "launch_ssh(NGROK_TOKEN,PASSWORD)"
      ],
      "metadata": {
        "colab": {
          "base_uri": "https://localhost:8080/"
        },
        "id": "jR-m4mKwTeoc",
        "outputId": "b38d5c45-befd-457d-e63c-57a06176749c"
      },
      "execution_count": null,
      "outputs": [
        {
          "output_type": "stream",
          "name": "stdout",
          "text": [
            "Warning: Due to some issues with ngrok on Google Colab, reported in the issue https://github.com/WassimBenzarti/colab-ssh/issues/45, \n",
            "we highly recommend that update your code by following this documentation https://github.com/WassimBenzarti/colab-ssh#getting-started\n",
            "Successfully running 4.tcp.ngrok.io:14976\n",
            "[Optional] You can also connect with VSCode SSH Remote extension using this configuration:\n",
            "\n",
            "  Host google_colab_ssh\n",
            "    HostName 4.tcp.ngrok.io\n",
            "    User root\n",
            "    Port 14976\n",
            "    \n"
          ]
        }
      ]
    },
    {
      "cell_type": "code",
      "source": [
        "# __getitem__ :  config에 값들을 test[config] 식으로 넣어서 값을 매우 쉽게 불러온다\n",
        "# config.json에 내용들을 끼워넣어서 config로 나중에 넣어서 문제를 해결한다.\n",
        "\n",
        "\n",
        "class Test(object):\n",
        "  def __getitem__(self,items):\n",
        "    print(type(items),items)\n",
        "\n",
        "test=Test()\n",
        "test[5]\n",
        "test[5:65:5]\n",
        "test['GeeksforGeeks']\n",
        "test[1,'x',10.0]\n",
        "test['a':'z':2]\n",
        "test[object()]"
      ],
      "metadata": {
        "colab": {
          "base_uri": "https://localhost:8080/"
        },
        "id": "7zvCauI1TlBo",
        "outputId": "880e3b3e-6e40-4657-af32-9877c8f050f0"
      },
      "execution_count": null,
      "outputs": [
        {
          "output_type": "stream",
          "name": "stdout",
          "text": [
            "<class 'int'> 5\n",
            "<class 'slice'> slice(5, 65, 5)\n",
            "<class 'str'> GeeksforGeeks\n",
            "<class 'tuple'> (1, 'x', 10.0)\n",
            "<class 'slice'> slice('a', 'z', 2)\n",
            "<class 'object'> <object object at 0x7f7d7c4f5b20>\n"
          ]
        }
      ]
    },
    {
      "cell_type": "code",
      "source": [
        ""
      ],
      "metadata": {
        "id": "nag_Oh4zZwtZ"
      },
      "execution_count": null,
      "outputs": []
    }
  ]
}
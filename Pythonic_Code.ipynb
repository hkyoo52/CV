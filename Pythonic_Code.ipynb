{
  "nbformat": 4,
  "nbformat_minor": 0,
  "metadata": {
    "colab": {
      "name": "Pythonic_Code.ipynb",
      "provenance": [],
      "authorship_tag": "ABX9TyOZ5KoElAmCCzq7A2CEU4bK",
      "include_colab_link": true
    },
    "kernelspec": {
      "name": "python3",
      "display_name": "Python 3"
    },
    "language_info": {
      "name": "python"
    }
  },
  "cells": [
    {
      "cell_type": "markdown",
      "metadata": {
        "id": "view-in-github",
        "colab_type": "text"
      },
      "source": [
        "<a href=\"https://colab.research.google.com/github/hkyoo52/CV/blob/code/Pythonic_Code.ipynb\" target=\"_parent\"><img src=\"https://colab.research.google.com/assets/colab-badge.svg\" alt=\"Open In Colab\"/></a>"
      ]
    },
    {
      "cell_type": "markdown",
      "source": [
        "### split, join\n",
        "\n",
        "* 문자열.split() : 코드를 쪼갬 (문자열->리스트)\n",
        "\n",
        "* 표시.join(리스트) : 코드를 합침 (리스트->문자열)"
      ],
      "metadata": {
        "id": "iMrI8QDpFT2L"
      }
    },
    {
      "cell_type": "code",
      "execution_count": null,
      "metadata": {
        "colab": {
          "base_uri": "https://localhost:8080/"
        },
        "id": "EK6EWTMnFB0y",
        "outputId": "1049c4f3-6ad8-497c-882a-48499becf339"
      },
      "outputs": [
        {
          "output_type": "stream",
          "name": "stdout",
          "text": [
            "['zero', 'one', 'two', 'three']\n",
            "['python', ' java', ' javascript']\n"
          ]
        }
      ],
      "source": [
        "example='zero one two three'.split()\n",
        "print(example)\n",
        "example2='python, java, javascript'.split(',')\n",
        "print(example2)"
      ]
    },
    {
      "cell_type": "code",
      "source": [
        "colors=['red','blue','green','yellow']\n",
        "'-'.join(colors)"
      ],
      "metadata": {
        "colab": {
          "base_uri": "https://localhost:8080/",
          "height": 36
        },
        "id": "AEFMo_p1Fg90",
        "outputId": "901f8d3b-c7d4-4df4-f8d9-7c42ff4d1427"
      },
      "execution_count": null,
      "outputs": [
        {
          "output_type": "execute_result",
          "data": {
            "application/vnd.google.colaboratory.intrinsic+json": {
              "type": "string"
            },
            "text/plain": [
              "'red-blue-green-yellow'"
            ]
          },
          "metadata": {},
          "execution_count": 2
        }
      ]
    },
    {
      "cell_type": "markdown",
      "source": [
        "### list comprehension\n",
        "* 기존 리스트를 사용하여 간단히 다른 리스트 만듬\n",
        "* for, append 보다 빠름\n"
      ],
      "metadata": {
        "id": "fu622uL3GGHL"
      }
    },
    {
      "cell_type": "code",
      "source": [
        "# 2중 반복문\n",
        "result=[i+j for i in range(10) for j in (10,20)]\n",
        "print(result)"
      ],
      "metadata": {
        "colab": {
          "base_uri": "https://localhost:8080/"
        },
        "id": "NoMwWP0cFxSg",
        "outputId": "2429d7f8-3808-4325-9fc7-5fcd214ea987"
      },
      "execution_count": null,
      "outputs": [
        {
          "output_type": "stream",
          "name": "stdout",
          "text": [
            "[10, 20, 11, 21, 12, 22, 13, 23, 14, 24, 15, 25, 16, 26, 17, 27, 18, 28, 19, 29]\n"
          ]
        }
      ]
    },
    {
      "cell_type": "code",
      "source": [
        "# filter 존재 (뒤에 if 문이 존재)\n",
        "case1=['A','B','C']\n",
        "case2=['D','E','F']\n",
        "result=[i+j for i in case1 for j in case2 if i != j]\n",
        "print(result)"
      ],
      "metadata": {
        "colab": {
          "base_uri": "https://localhost:8080/"
        },
        "id": "PNZvk8YvGXI0",
        "outputId": "e3b8084b-71a3-4cd9-8cd0-46e5d7fe0cac"
      },
      "execution_count": null,
      "outputs": [
        {
          "output_type": "stream",
          "name": "stdout",
          "text": [
            "['AD', 'AE', 'AF', 'BD', 'BE', 'BF', 'CD', 'CE', 'CF']\n"
          ]
        }
      ]
    },
    {
      "cell_type": "code",
      "source": [
        "# 여러개 리스트 생성\n",
        "import pprint\n",
        "\n",
        "words='The quick brown fox jumps over the lazy dog'.split()\n",
        "print(words)\n",
        "stuff=[[w.upper(),w.lower(),len(w)] for w in words]\n",
        "#리스트 하나 쓰면 한칸 내려서 출력 (예쁘게 이미지 생성)\n",
        "pprint.pprint(stuff)"
      ],
      "metadata": {
        "colab": {
          "base_uri": "https://localhost:8080/"
        },
        "id": "LW2oBizEGyRo",
        "outputId": "3c1e9b4c-de7e-4a0d-9174-6ecb46d23dda"
      },
      "execution_count": null,
      "outputs": [
        {
          "output_type": "stream",
          "name": "stdout",
          "text": [
            "['The', 'quick', 'brown', 'fox', 'jumps', 'over', 'the', 'lazy', 'dog']\n",
            "[['THE', 'the', 3],\n",
            " ['QUICK', 'quick', 5],\n",
            " ['BROWN', 'brown', 5],\n",
            " ['FOX', 'fox', 3],\n",
            " ['JUMPS', 'jumps', 5],\n",
            " ['OVER', 'over', 4],\n",
            " ['THE', 'the', 3],\n",
            " ['LAZY', 'lazy', 4],\n",
            " ['DOG', 'dog', 3]]\n"
          ]
        }
      ]
    },
    {
      "cell_type": "code",
      "source": [
        "# 2차원 리스트 생성\n",
        "case1=['A','B','C']\n",
        "case2=['D','E','F']\n",
        "result=[[i+j for i in case1] for j in case2]\n",
        "print(result)"
      ],
      "metadata": {
        "colab": {
          "base_uri": "https://localhost:8080/"
        },
        "id": "j3zgKpDkHOFJ",
        "outputId": "8e57bca6-b944-4358-c720-8023c1b01de0"
      },
      "execution_count": null,
      "outputs": [
        {
          "output_type": "stream",
          "name": "stdout",
          "text": [
            "[['AD', 'BD', 'CD'], ['AE', 'BE', 'CE'], ['AF', 'BF', 'CF']]\n"
          ]
        }
      ]
    },
    {
      "cell_type": "markdown",
      "source": [
        "### enumerate & zip\n",
        "* enumerate : index와 value 같이 출력\n",
        "* zip : 2개의 리스트의 값을 병렬적으로 추출"
      ],
      "metadata": {
        "id": "SE2_W6cZH9T3"
      }
    },
    {
      "cell_type": "code",
      "source": [
        "# enumerate\n",
        "my_str='ABCD'\n",
        "{v : i for i,v in enumerate(my_str)}"
      ],
      "metadata": {
        "colab": {
          "base_uri": "https://localhost:8080/"
        },
        "id": "ODwMW7WVH4kR",
        "outputId": "d5904533-82d6-4776-ee14-925fb15ac251"
      },
      "execution_count": null,
      "outputs": [
        {
          "output_type": "execute_result",
          "data": {
            "text/plain": [
              "{'A': 0, 'B': 1, 'C': 2, 'D': 3}"
            ]
          },
          "metadata": {},
          "execution_count": 14
        }
      ]
    },
    {
      "cell_type": "code",
      "source": [
        "# zip\n",
        "alist=['a1','a2','a3']\n",
        "blist=['b1','b2','b3']\n",
        "for a, b in zip(alist,blist):\n",
        "  print(a,b)"
      ],
      "metadata": {
        "colab": {
          "base_uri": "https://localhost:8080/"
        },
        "id": "gsUjWM2tITm5",
        "outputId": "4fdb7a75-bae8-4c77-dc69-fc5e26fd442c"
      },
      "execution_count": null,
      "outputs": [
        {
          "output_type": "stream",
          "name": "stdout",
          "text": [
            "a1 b1\n",
            "a2 b2\n",
            "a3 b3\n"
          ]
        }
      ]
    },
    {
      "cell_type": "code",
      "source": [
        "# enumerate + zip\n",
        "alist=['a1','a2','a3']\n",
        "blist=['b1','b2','b3']\n",
        "list(enumerate(zip(alist,blist)))"
      ],
      "metadata": {
        "colab": {
          "base_uri": "https://localhost:8080/"
        },
        "id": "VQjm7V_TMlkg",
        "outputId": "fbd59bca-ef3c-4ab2-969a-4c6822cc3426"
      },
      "execution_count": null,
      "outputs": [
        {
          "output_type": "execute_result",
          "data": {
            "text/plain": [
              "[(0, ('a1', 'b1')), (1, ('a2', 'b2')), (2, ('a3', 'b3'))]"
            ]
          },
          "metadata": {},
          "execution_count": 16
        }
      ]
    },
    {
      "cell_type": "markdown",
      "source": [
        "### lambda & map & reduce\n",
        "* lambda : 함수 이름없이 함수 사용\n",
        "* map : 각각의 원소에 함수 적용, if filter 사용 O, 마지막에 list에 적용\n",
        "* reduce : 각각에 원소에 함수 적용해서 통합"
      ],
      "metadata": {
        "id": "DgrxCp_3NFxY"
      }
    },
    {
      "cell_type": "code",
      "source": [
        "# lambda\n",
        "(lambda x,y : x+y)(10,50)"
      ],
      "metadata": {
        "colab": {
          "base_uri": "https://localhost:8080/"
        },
        "id": "XLRD47tnM5ep",
        "outputId": "6a20082f-0e21-4ceb-84a2-2f5b21aaf073"
      },
      "execution_count": null,
      "outputs": [
        {
          "output_type": "execute_result",
          "data": {
            "text/plain": [
              "60"
            ]
          },
          "metadata": {},
          "execution_count": 17
        }
      ]
    },
    {
      "cell_type": "code",
      "source": [
        "# map \n",
        "ex=[1,2,3,4,5]\n",
        "f=lambda x:x**2\n",
        "list(map(f,ex))"
      ],
      "metadata": {
        "colab": {
          "base_uri": "https://localhost:8080/"
        },
        "id": "6vaFGoxPN08W",
        "outputId": "f8e8f926-e589-43e4-c4d6-31cd8c33627d"
      },
      "execution_count": null,
      "outputs": [
        {
          "output_type": "execute_result",
          "data": {
            "text/plain": [
              "[1, 4, 9, 16, 25]"
            ]
          },
          "metadata": {},
          "execution_count": 18
        }
      ]
    },
    {
      "cell_type": "code",
      "source": [
        "# reduce\n",
        "\n",
        "from functools import reduce\n",
        "\n",
        "ex=[1,2,3,4,5]\n",
        "f=lambda x,y : x+y\n",
        "reduce(f,ex)"
      ],
      "metadata": {
        "colab": {
          "base_uri": "https://localhost:8080/"
        },
        "id": "oRazoweJOc9u",
        "outputId": "e7f253bc-03d9-4d17-b507-ffb2d6385dc8"
      },
      "execution_count": null,
      "outputs": [
        {
          "output_type": "execute_result",
          "data": {
            "text/plain": [
              "15"
            ]
          },
          "metadata": {},
          "execution_count": 22
        }
      ]
    },
    {
      "cell_type": "markdown",
      "source": [
        "### iterable object\n",
        "* iterable object : sequence 데이터\n",
        "* iter(), next() 함수로 iterable object 정보 사용"
      ],
      "metadata": {
        "id": "G35EItUnP3-p"
      }
    },
    {
      "cell_type": "code",
      "source": [
        "cities=['Seoul','Busan','Jeju']\n",
        "memory_address=iter(cities)     # 메모리 addres\n",
        "print(memory_address)\n",
        "for i in range(len(cities)):\n",
        "  print(next(memory_address))    # 메모리 address에 있는 정보 하나씩 순서대로 꺼냄"
      ],
      "metadata": {
        "colab": {
          "base_uri": "https://localhost:8080/"
        },
        "id": "klw3b6GlPepf",
        "outputId": "067c9525-1b26-4fb9-ea77-5011d0d6386a"
      },
      "execution_count": null,
      "outputs": [
        {
          "output_type": "stream",
          "name": "stdout",
          "text": [
            "<list_iterator object at 0x7fdad7ef1210>\n",
            "Seoul\n",
            "Busan\n",
            "Jeju\n"
          ]
        }
      ]
    },
    {
      "cell_type": "markdown",
      "source": [
        "### Generator\n",
        "쓰는 이유 : 실제로 데이터를 넣는 것이 아니라 메모리 창만 저장을 한다. \n",
        "=> 메모리를 효과적으로 아낄 수 있다.\n",
        "\n",
        "* iterable object : 특수한 형태로 사용하는 함수\n",
        "* element가 사용되는 시점에 값을 메모리에 반환\n",
        "* yield를 사용해서 하나의 element만 반환 "
      ],
      "metadata": {
        "id": "o8nHEXjcREGw"
      }
    },
    {
      "cell_type": "code",
      "source": [
        "def general_list(value):\n",
        "  result=[i for i in range(value)]\n",
        "  return result"
      ],
      "metadata": {
        "id": "wF82sslBQcHz"
      },
      "execution_count": null,
      "outputs": []
    },
    {
      "cell_type": "code",
      "source": [
        "import sys\n",
        "result=general_list(50)"
      ],
      "metadata": {
        "colab": {
          "base_uri": "https://localhost:8080/"
        },
        "id": "jeLyvspqRnyD",
        "outputId": "2da121ab-4181-47c9-bc78-a5f856b78845"
      },
      "execution_count": null,
      "outputs": [
        {
          "output_type": "stream",
          "name": "stdout",
          "text": [
            "[0, 1, 2, 3, 4, 5, 6, 7, 8, 9, 10, 11, 12, 13, 14, 15, 16, 17, 18, 19, 20, 21, 22, 23, 24, 25, 26, 27, 28, 29, 30, 31, 32, 33, 34, 35, 36, 37, 38, 39, 40, 41, 42, 43, 44, 45, 46, 47, 48, 49]\n"
          ]
        }
      ]
    },
    {
      "cell_type": "code",
      "source": [
        "gen_ex=(n*n for n in range(500))\n",
        "print(gen_ex)"
      ],
      "metadata": {
        "id": "Bwdb69wnRp_M",
        "colab": {
          "base_uri": "https://localhost:8080/"
        },
        "outputId": "1560a310-3653-433f-ebda-52370f6499b1"
      },
      "execution_count": null,
      "outputs": [
        {
          "output_type": "stream",
          "name": "stdout",
          "text": [
            "<generator object <genexpr> at 0x7f49715eaf50>\n"
          ]
        }
      ]
    },
    {
      "cell_type": "markdown",
      "source": [
        "### Argument\n",
        "1. Keyword argument\n",
        "2. Default argument\n",
        "3. Variable length argument - * 사용해서 함수의 parameter 표현\n",
        "\n",
        "  반드시 keyword argument는 뒤에 써야한다!!!"
      ],
      "metadata": {
        "id": "X2cdq9t77PS-"
      }
    },
    {
      "cell_type": "code",
      "source": [
        "# variable Length argument\n",
        "\n",
        "def asterist_test(a,b,*args):\n",
        "  print(args)\n",
        "  return\n",
        "\n",
        "print(asterist_test(1,2,(3,4,5)))\n",
        "print(asterist_test(1,2,*(3,4,5)))    # *를 붙이면 tuple이나 list가 풀어서 들어가게됨"
      ],
      "metadata": {
        "id": "mwf9H0iv63pz",
        "colab": {
          "base_uri": "https://localhost:8080/"
        },
        "outputId": "b1cc679a-0732-43dc-8891-aafdf79f3c85"
      },
      "execution_count": null,
      "outputs": [
        {
          "output_type": "stream",
          "name": "stdout",
          "text": [
            "((3, 4, 5),)\n",
            "None\n",
            "(3, 4, 5)\n",
            "None\n"
          ]
        }
      ]
    },
    {
      "cell_type": "code",
      "source": [
        ""
      ],
      "metadata": {
        "id": "d-Qj992_A1fl"
      },
      "execution_count": null,
      "outputs": []
    }
  ]
}
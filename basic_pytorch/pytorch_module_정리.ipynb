{
  "nbformat": 4,
  "nbformat_minor": 0,
  "metadata": {
    "colab": {
      "name": "pytorch_module_정리.ipynb",
      "provenance": [],
      "authorship_tag": "ABX9TyNexU8cPL8B49BRiT2tvYEz",
      "include_colab_link": true
    },
    "kernelspec": {
      "name": "python3",
      "display_name": "Python 3"
    },
    "language_info": {
      "name": "python"
    }
  },
  "cells": [
    {
      "cell_type": "markdown",
      "metadata": {
        "id": "view-in-github",
        "colab_type": "text"
      },
      "source": [
        "<a href=\"https://colab.research.google.com/github/hkyoo52/CV/blob/main/pytorch_module_%EC%A0%95%EB%A6%AC.ipynb\" target=\"_parent\"><img src=\"https://colab.research.google.com/assets/colab-badge.svg\" alt=\"Open In Colab\"/></a>"
      ]
    },
    {
      "cell_type": "markdown",
      "source": [
        "## Module"
      ],
      "metadata": {
        "id": "J08uGO_ww3Ig"
      }
    },
    {
      "cell_type": "code",
      "source": [
        "#사측연산 : add, sub, dot, div\n",
        "A=torch.Tensor([3])\n",
        "B=torch.Tensor([10])\n",
        "torch.div(A,B)"
      ],
      "metadata": {
        "colab": {
          "base_uri": "https://localhost:8080/"
        },
        "id": "KD9958OlyfRM",
        "outputId": "b634deb7-957c-48f3-e377-50edd3726866"
      },
      "execution_count": null,
      "outputs": [
        {
          "output_type": "execute_result",
          "data": {
            "text/plain": [
              "tensor([0.3000])"
            ]
          },
          "metadata": {},
          "execution_count": 4
        }
      ]
    },
    {
      "cell_type": "markdown",
      "source": [
        "### gather\n",
        "**기하적 생각**\n",
        "\n",
        "* gather(행렬,dim,index) 식으로 사용\n",
        "\n",
        "* dim은 몇번째 axis에서 한개씩 꺼낼 것인가?\n",
        "\n",
        "* index는 그 axis에서 몇번째 index를 꺼낼 것인가?\n",
        "\n",
        "  => 이때 shape는 dim 부분만 1 나머지는 output 행렬과 동일해야함\n",
        "\n",
        "![image](https://user-images.githubusercontent.com/63588046/150920786-e6818bc9-f3f4-4a0b-b84e-9290cdd007c0.png)\n",
        "\n",
        "=> index는 [[0,1,2],[0,1,2],[0,1,2]]이고 \n",
        "    shape는 (3,1,3)으로 만들어야함 (output이 (3,3) 인 행렬이므로)\n",
        "\n",
        "\n",
        "**산술적 생각**\n",
        "\n",
        "* if dim==0   =>   out[i][j][k] = input[[index[i][j][k]][j][k]]   \n",
        "\n",
        "* if dim==1   =>   out[i][j][k] = input[[i][index[i][j][k]]][k]]   \n",
        "\n",
        "* if dim==2   =>   out[i][j][k] = input[[i][j][index[i][j][k]]]]  \n",
        "\n",
        "\n",
        "\n"
      ],
      "metadata": {
        "id": "egsmf2wHz4aw"
      }
    },
    {
      "cell_type": "code",
      "source": [
        "# 3d에서 대각행렬 값만 가져오는법\n",
        "def get_diag_element_3D(A):\n",
        "    c,h,w=A.size()\n",
        "    print(c,w)\n",
        "    index=torch.arange(min(h,w)).expand(c,min(h,w)).view(c,1,min(h,w))\n",
        "    output = torch.gather(A,1,index).squeeze()\n",
        "    return output"
      ],
      "metadata": {
        "id": "tFtMlfjRxtVO"
      },
      "execution_count": null,
      "outputs": []
    },
    {
      "cell_type": "markdown",
      "source": [
        "## 텐서"
      ],
      "metadata": {
        "id": "sdfUc_E_32bP"
      }
    },
    {
      "cell_type": "markdown",
      "source": [
        "### 텐서 생성\n",
        "torch.Tensor(직접 입력)\n",
        "\n",
        "torch.from_numpy(numpy를 tensor로 바꿈)\n",
        "\n",
        "torch.zeros(size) : size 크기의 tensor 생성\n",
        "\n",
        "torch.zeros_like(행렬) : 행렬의 크기와 동일한 크기의 tensor 생성"
      ],
      "metadata": {
        "id": "DDE-rQgd4YO9"
      }
    },
    {
      "cell_type": "code",
      "execution_count": null,
      "metadata": {
        "id": "7OKugTjFv-i-"
      },
      "outputs": [],
      "source": [
        "import torch\n",
        "import numpy as np\n",
        "\n",
        "# 텐서 생성하기\n",
        "new_torch=torch.Tensor([[1,2],\n",
        "                       [3,4]])\n",
        "# numpy로 tensor 생성\n",
        "a=np.array([[1,2],[3,4]])\n",
        "new_torch=torch.from_numpy(a)"
      ]
    },
    {
      "cell_type": "code",
      "source": [
        "# 행렬의 크기가 주어져있을때 그 크기에 맞춰서 생성\n",
        "a=torch.zeros(2,3)\n",
        "torch.zeros_like(a)"
      ],
      "metadata": {
        "colab": {
          "base_uri": "https://localhost:8080/"
        },
        "id": "utrNm5RN4f2l",
        "outputId": "f6d71ca9-f463-43a9-c624-0a65333b045b"
      },
      "execution_count": null,
      "outputs": [
        {
          "output_type": "execute_result",
          "data": {
            "text/plain": [
              "tensor([[0., 0., 0.],\n",
              "        [0., 0., 0.]])"
            ]
          },
          "metadata": {},
          "execution_count": 9
        }
      ]
    },
    {
      "cell_type": "code",
      "source": [
        "# 텐서 indexing 하는법\n",
        "# torch.index_select(텐서, axis 방향, indexing(토치)할것)\n",
        "indexing=torch.tensor([0])\n",
        "torch.index_select(new_torch,1,indexing)"
      ],
      "metadata": {
        "colab": {
          "base_uri": "https://localhost:8080/"
        },
        "id": "fRVLt9Fa39p1",
        "outputId": "d781fce5-3fa9-40d9-e827-5c47e9c8216c"
      },
      "execution_count": null,
      "outputs": [
        {
          "output_type": "execute_result",
          "data": {
            "text/plain": [
              "tensor([[1.],\n",
              "        [3.]])"
            ]
          },
          "metadata": {},
          "execution_count": 5
        }
      ]
    },
    {
      "cell_type": "markdown",
      "source": [
        "chunk(행렬,n,dim) : dim 방향으로 행렬을 n개로 쪼갬\n",
        "\n",
        "swapdims(행렬,dim0,dim1) : dim0과 dim1을 transpose함\n"
      ],
      "metadata": {
        "id": "OKGWr2eN4W0J"
      }
    },
    {
      "cell_type": "markdown",
      "source": [
        "### Random sampling\n",
        "https://pytorch.org/docs/stable/torch.html#random-sampling\n",
        "\n",
        "torch.Tensor.bernoulli_(a), torch.Tensor.normal_(a)\n",
        " 등등 존재\n"
      ],
      "metadata": {
        "id": "_5e2Po0a6dOT"
      }
    },
    {
      "cell_type": "markdown",
      "source": [
        "### Math operation\n",
        "https://pytorch.org/docs/stable/torch.html#math-operations\n"
      ],
      "metadata": {
        "id": "OWzeS2t58xsy"
      }
    },
    {
      "cell_type": "code",
      "source": [
        "# einsum(equation,행렬) : 두개의 행렬을 곱해서 더하기 (크기는 equation으로)\n",
        "a13=torch.Tensor([[1,2,3]])\n",
        "b31=torch.Tensor([[2,2,2]])\n",
        "torch.einsum('bi,bi -> i', a13, b31)  #1*3,1*3 -> 3"
      ],
      "metadata": {
        "colab": {
          "base_uri": "https://localhost:8080/"
        },
        "id": "36QxUi0U4aXi",
        "outputId": "7d77adf6-27e6-4811-dfc6-bd4c898fd687"
      },
      "execution_count": null,
      "outputs": [
        {
          "output_type": "execute_result",
          "data": {
            "text/plain": [
              "tensor([2., 4., 6.])"
            ]
          },
          "metadata": {},
          "execution_count": 10
        }
      ]
    },
    {
      "cell_type": "code",
      "source": [
        "a23=torch.Tensor([[1,2,3],[2,4,6]])\n",
        "b13=torch.Tensor([[2,2,2]])\n",
        "torch.einsum('bi,ci -> bi', a23, b13)   #2*3, 1*3 -> 2*3"
      ],
      "metadata": {
        "colab": {
          "base_uri": "https://localhost:8080/"
        },
        "id": "txtLJCXU390K",
        "outputId": "e5fce574-e762-40bd-e51c-569c8aa9d771"
      },
      "execution_count": null,
      "outputs": [
        {
          "output_type": "execute_result",
          "data": {
            "text/plain": [
              "tensor([[ 2.,  4.,  6.],\n",
              "        [ 4.,  8., 12.]])"
            ]
          },
          "metadata": {},
          "execution_count": 11
        }
      ]
    },
    {
      "cell_type": "markdown",
      "source": [
        "## 모듈 제작\n",
        "\n",
        "``` python\n",
        "class 함수명(nn.Module):\n",
        "  def __init__(self,변수):\n",
        "    super().__init__()\n",
        "    self.변수 = 변수\n",
        "    self.add_list=nn.ModuleList([함수,함수,함수]) \n",
        "  def forward(self,변수2):\n",
        "    ~~~\n",
        "    for i in self.add_list:\n",
        "      x=i(x)\n",
        "    return x\n",
        "\n",
        "``` \n",
        "ModuleList만 변경해가면서 모델을 생성할 수 있다. (list대신 ModuleList를 사용해야 이후 list값이 안 사라지고 계속 사용 가능하다)\n"
      ],
      "metadata": {
        "id": "IAdXEdBx-fAu"
      }
    },
    {
      "cell_type": "markdown",
      "source": [
        "### 파라미터 생성\n",
        "\n",
        "파라미터로 변수를 만들어야 값을 저장하고 미분을 할 수 있다!!\n",
        "\n",
        "```\n",
        "def __init__(self,~~):\n",
        "  self.W=Parameter(torch.~~)\n",
        "```\n",
        "\n",
        "**Tensor**\n",
        "* gradient X\n",
        "* 값 업데이터 X\n",
        "* 모델 값 저장 X\n",
        "\n",
        "**Parameter**\n",
        "* gradient O\n",
        "* 값 업데이터 O\n",
        "* 모델 값 저장 O\n",
        "\n",
        "**Buffer**\n",
        "* gradient X\n",
        "* 값 업데이터 X\n",
        "* 모델 값 저장 O"
      ],
      "metadata": {
        "id": "VlACACYhAcP0"
      }
    },
    {
      "cell_type": "markdown",
      "source": [
        "## 모듈 분석\n",
        "\n",
        "model.named_modules() : 모듈 이름 생성\n",
        "\n",
        "model.get_submodule('모듈 이름')\n",
        "\n",
        "module.name_parameter()\n",
        "\n",
        "module.get_parameter('파라미터이름')\n",
        "\n",
        "\n",
        "\n",
        "```\n",
        "def extra_repr(self):\n",
        "  return '~={}'.format(~)\n",
        "```\n",
        "=> module에 파라미터 나오게 출력 가능"
      ],
      "metadata": {
        "id": "0pNWgOfXBUcC"
      }
    },
    {
      "cell_type": "code",
      "source": [
        "import torch\n",
        "from torch import nn\n",
        "from torch.nn.parameter import Parameter\n",
        "\n",
        "class Function_A(nn.Module):\n",
        "    def __init__(self, name):\n",
        "        super().__init__()\n",
        "        self.name = name\n",
        "\n",
        "    def forward(self, x):\n",
        "        return x\n",
        "    \n",
        "    def extra_repr(self):\n",
        "        return 'name={}'.format(self.name)\n",
        "\n",
        "class Function_B(nn.Module):\n",
        "    def __init__(self):\n",
        "        super().__init__()\n",
        "\n",
        "    def forward(self, x):\n",
        "        return x\n",
        "\n",
        "class Layer_AB(nn.Module):\n",
        "    def __init__(self):\n",
        "        super().__init__()\n",
        "        self.a = Function_A('duck')\n",
        "        self.b = Function_B()\n",
        "\n",
        "    def forward(self, x):\n",
        "        x = self.a(x)\n",
        "        x = self.b(x)\n",
        "        return x\n",
        "\n",
        "class Model(nn.Module):\n",
        "    def __init__(self):\n",
        "        super().__init__()\n",
        "        self.ab = Layer_AB()\n",
        "\n",
        "    def forward(self, x):\n",
        "        x = self.ab(x)\n",
        "        return x\n",
        "\n",
        "x=torch.tensor([3])\n",
        "model=Model()\n",
        "\n",
        "for name, module in model.named_modules():\n",
        "  print('<Name> {}'.format(name))\n",
        "  print('<Module> {}'.format(module))"
      ],
      "metadata": {
        "id": "3XCnUnVX-D1H",
        "colab": {
          "base_uri": "https://localhost:8080/"
        },
        "outputId": "439e4b59-9efa-4160-cc1d-60e25fa4713e"
      },
      "execution_count": null,
      "outputs": [
        {
          "output_type": "stream",
          "name": "stdout",
          "text": [
            "<Name> \n",
            "<Module> Model(\n",
            "  (ab): Layer_AB(\n",
            "    (a): Function_A(name=duck)\n",
            "    (b): Function_B()\n",
            "  )\n",
            ")\n",
            "<Name> ab\n",
            "<Module> Layer_AB(\n",
            "  (a): Function_A(name=duck)\n",
            "  (b): Function_B()\n",
            ")\n",
            "<Name> ab.a\n",
            "<Module> Function_A(name=duck)\n",
            "<Name> ab.b\n",
            "<Module> Function_B()\n"
          ]
        }
      ]
    },
    {
      "cell_type": "code",
      "source": [
        "model.get_submodule('ab.a')"
      ],
      "metadata": {
        "colab": {
          "base_uri": "https://localhost:8080/"
        },
        "id": "od9-aXRfsEEe",
        "outputId": "49d940c9-f042-4f5c-f3c3-d0024a0cc37f"
      },
      "execution_count": null,
      "outputs": [
        {
          "output_type": "execute_result",
          "data": {
            "text/plain": [
              "Function_A(name=duck)"
            ]
          },
          "metadata": {},
          "execution_count": 7
        }
      ]
    },
    {
      "cell_type": "markdown",
      "source": [
        "## hook & apply\n",
        "### hook\n",
        "* 함수내에 파라미터에 순차적으로 적용해줌\n",
        "\n",
        "### apply\n",
        "* model.apply(함수)\n",
        "* model 내에 모든 module(함수 등)에 각각 다 적용"
      ],
      "metadata": {
        "id": "HZO-lQ4Gs4aE"
      }
    },
    {
      "cell_type": "code",
      "source": [
        "# hook 원리\n",
        "\n",
        "def prog_A(x):\n",
        "  return 1\n",
        "\n",
        "def program_B(x):\n",
        "    return x - 3\n",
        "\n",
        "class Package(object):\n",
        "  def __init__(self):\n",
        "    self.program=prog_A\n",
        "    self.hooks=[]\n",
        "\n",
        "  def __call__(self,x):\n",
        "    x=self.program(x)\n",
        "    if self.hooks:\n",
        "      for hook in self.hooks:\n",
        "        output=hook(x)\n",
        "        if output:\n",
        "          x=output\n",
        "    return x\n",
        "\n",
        "package=Package()\n",
        "input=3\n",
        "output=package(input)\n",
        "print('empty hook : ',package(input))\n",
        "package.hooks.append(program_B)\n",
        "print('append hook : ',package(input))\n"
      ],
      "metadata": {
        "colab": {
          "base_uri": "https://localhost:8080/"
        },
        "id": "YUKAX_qBsM-G",
        "outputId": "72444ecd-8f22-4f28-f896-d78261c88c43"
      },
      "execution_count": null,
      "outputs": [
        {
          "output_type": "stream",
          "name": "stdout",
          "text": [
            "empty hook :  1\n",
            "append hook :  -2\n"
          ]
        }
      ]
    },
    {
      "cell_type": "code",
      "source": [
        "# register_forward_hook\n",
        "# def hook(모듈,input,output) => return값은 output\n",
        "\n",
        "import torch\n",
        "from torch import nn\n",
        "from torch.nn.parameter import Parameter\n",
        "\n",
        "class Add(nn.Module):\n",
        "    def __init__(self):\n",
        "        super().__init__() \n",
        "\n",
        "    def forward(self, x1, x2):\n",
        "        output = torch.add(x1, x2)\n",
        "\n",
        "        return output\n",
        "\n",
        "def hook(module,input,output):\n",
        "  return output+5\n",
        "\n",
        "add=Add()\n",
        "\n",
        "add.register_forward_hook(hook)\n",
        "\n",
        "x1=Parameter(torch.Tensor([1]),requires_grad=True)\n",
        "x2=Parameter(torch.Tensor([2]),requires_grad=True)\n",
        "print('결과값은 5가 더 더해짐 : x1+x2+5 = ',add(x1,x2))"
      ],
      "metadata": {
        "id": "DiDK6R11vZbr",
        "colab": {
          "base_uri": "https://localhost:8080/"
        },
        "outputId": "bcbe8fb1-fc2e-41ca-837e-e8350796fe42"
      },
      "execution_count": 14,
      "outputs": [
        {
          "output_type": "stream",
          "name": "stdout",
          "text": [
            "결과값은 5가 더 더해짐 : x1+x2+5 =  tensor([8.], grad_fn=<AddBackward0>)\n"
          ]
        }
      ]
    },
    {
      "cell_type": "code",
      "source": [
        "# 텐서 hook\n",
        "# def tensor_hook(grad)\n",
        "# 파라미터에 직접 출력\n",
        "\n",
        "\n",
        "\n",
        "class Model(nn.Module):\n",
        "    def __init__(self):\n",
        "        super().__init__() \n",
        "        self.W=Parameter(torch.Tensor([5]))\n",
        "\n",
        "    def forward(self, x1, x2):\n",
        "        return self.W*(x1+x2)\n",
        "\n",
        "answer=[]\n",
        "\n",
        "def tensor_hook(grad):\n",
        "  answer.append(grad)\n",
        "  return \n",
        "\n",
        "model=Model()\n",
        "model.W.register_hook(tensor_hook)\n",
        "\n",
        "x1=Parameter(torch.Tensor([1]),requires_grad=True)\n",
        "x2=Parameter(torch.Tensor([2]),requires_grad=True)\n",
        "\n",
        "output=model(x1,x2)\n",
        "output.backward()\n",
        "\n",
        "print('model의 W의 기울기값 : ',answer)"
      ],
      "metadata": {
        "colab": {
          "base_uri": "https://localhost:8080/"
        },
        "id": "RC-sWsvBdodk",
        "outputId": "f3e2e50f-7667-4481-ce0e-c29750d8b9ca"
      },
      "execution_count": 21,
      "outputs": [
        {
          "output_type": "stream",
          "name": "stdout",
          "text": [
            "model의 W의 기울기값 :  [tensor([3.])]\n"
          ]
        }
      ]
    },
    {
      "cell_type": "code",
      "source": [
        "# module hook\n",
        "# register_full_backward_hook\n",
        "# return 값이 input\n",
        "\n",
        "class Model(nn.Module):\n",
        "    def __init__(self):\n",
        "        super().__init__() \n",
        "        self.W=Parameter(torch.Tensor([5]))\n",
        "\n",
        "    def forward(self, x1, x2):\n",
        "        return self.W*(x1+x2)\n",
        "\n",
        "def module_hook(module, grad_input, grad_output):\n",
        "    grad_input=torch.divide(grad_input[0],sum(grad_input)),torch.divide(grad_input[1],sum(grad_input))\n",
        "    return grad_input\n",
        "\n",
        "model.register_full_backward_hook(module_hook)\n",
        "\n",
        "x1=Parameter(torch.Tensor([1]),requires_grad=True)\n",
        "x2=Parameter(torch.Tensor([2]),requires_grad=True)\n",
        "output = model(x1, x2)\n",
        "output.backward()\n",
        "\n",
        "print('학습하는 도중에 hook을 사용했다.',x1.grad, x2.grad,x1.grad+x2.grad)"
      ],
      "metadata": {
        "colab": {
          "base_uri": "https://localhost:8080/"
        },
        "id": "f-dG3Qw7feyE",
        "outputId": "d46086b5-2d11-4b88-ea9b-05527079be1b"
      },
      "execution_count": 22,
      "outputs": [
        {
          "output_type": "stream",
          "name": "stdout",
          "text": [
            "학습하는 도중에 hook을 사용했다. tensor([0.5000]) tensor([0.5000]) tensor([1.])\n"
          ]
        }
      ]
    },
    {
      "cell_type": "code",
      "source": [
        ""
      ],
      "metadata": {
        "id": "hwr7vxAbhl-g"
      },
      "execution_count": null,
      "outputs": []
    }
  ]
}
